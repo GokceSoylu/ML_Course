{
 "cells": [
  {
   "cell_type": "markdown",
   "metadata": {},
   "source": [
    "# 3D sactterplot "
   ]
  },
  {
   "cell_type": "code",
   "execution_count": 1,
   "metadata": {},
   "outputs": [],
   "source": [
    "import pandas as pd\n",
    "import matplotlib.pyplot as plt\n",
    "from plotly.offline import iplot\n",
    "import plotly.graph_objects as go"
   ]
  },
  {
   "cell_type": "code",
   "execution_count": 2,
   "metadata": {},
   "outputs": [
    {
     "name": "stdout",
     "output_type": "stream",
     "text": [
      "Requirement already satisfied: plotly in /Users/necmiyesoyla/opt/anaconda3/lib/python3.9/site-packages (5.9.0)\n",
      "Collecting plotly\n",
      "  Downloading plotly-5.13.1-py2.py3-none-any.whl (15.2 MB)\n",
      "\u001b[2K     \u001b[90m━━━━━━━━━━━━━━━━━━━━━━━━━━━━━━━━━━━━━━━━\u001b[0m \u001b[32m15.2/15.2 MB\u001b[0m \u001b[31m1.4 MB/s\u001b[0m eta \u001b[36m0:00:00\u001b[0m00:01\u001b[0m00:01\u001b[0m\n",
      "\u001b[?25hRequirement already satisfied: tenacity>=6.2.0 in /Users/necmiyesoyla/opt/anaconda3/lib/python3.9/site-packages (from plotly) (8.0.1)\n",
      "Installing collected packages: plotly\n",
      "  Attempting uninstall: plotly\n",
      "    Found existing installation: plotly 5.9.0\n",
      "    Uninstalling plotly-5.9.0:\n",
      "      Successfully uninstalled plotly-5.9.0\n",
      "Successfully installed plotly-5.13.1\n"
     ]
    }
   ],
   "source": [
    "!pip install --upgrade plotly "
   ]
  },
  {
   "cell_type": "code",
   "execution_count": 3,
   "metadata": {},
   "outputs": [
    {
     "name": "stdout",
     "output_type": "stream",
     "text": [
      "Collecting jupyter-dash\n",
      "  Downloading jupyter_dash-0.4.2-py3-none-any.whl (23 kB)\n",
      "Collecting dash\n",
      "  Downloading dash-2.9.1-py3-none-any.whl (10.2 MB)\n",
      "\u001b[2K     \u001b[90m━━━━━━━━━━━━━━━━━━━━━━━━━━━━━━━━━━━━━━━━\u001b[0m \u001b[32m10.2/10.2 MB\u001b[0m \u001b[31m1.3 MB/s\u001b[0m eta \u001b[36m0:00:00\u001b[0m00:01\u001b[0m00:01\u001b[0mm\n",
      "\u001b[?25hCollecting ansi2html\n",
      "  Downloading ansi2html-1.8.0-py3-none-any.whl (16 kB)\n",
      "Requirement already satisfied: flask in /Users/necmiyesoyla/opt/anaconda3/lib/python3.9/site-packages (from jupyter-dash) (1.1.2)\n",
      "Requirement already satisfied: ipython in /Users/necmiyesoyla/opt/anaconda3/lib/python3.9/site-packages (from jupyter-dash) (7.31.1)\n",
      "Requirement already satisfied: ipykernel in /Users/necmiyesoyla/opt/anaconda3/lib/python3.9/site-packages (from jupyter-dash) (6.15.2)\n",
      "Requirement already satisfied: nest-asyncio in /Users/necmiyesoyla/opt/anaconda3/lib/python3.9/site-packages (from jupyter-dash) (1.5.5)\n",
      "Requirement already satisfied: requests in /Users/necmiyesoyla/opt/anaconda3/lib/python3.9/site-packages (from jupyter-dash) (2.28.1)\n",
      "Collecting retrying\n",
      "  Downloading retrying-1.3.4-py3-none-any.whl (11 kB)\n",
      "Collecting dash-core-components==2.0.0\n",
      "  Downloading dash_core_components-2.0.0-py3-none-any.whl (3.8 kB)\n",
      "Collecting dash-table==5.0.0\n",
      "  Downloading dash_table-5.0.0-py3-none-any.whl (3.9 kB)\n",
      "Collecting dash-html-components==2.0.0\n",
      "  Downloading dash_html_components-2.0.0-py3-none-any.whl (4.1 kB)\n",
      "Requirement already satisfied: plotly>=5.0.0 in /Users/necmiyesoyla/opt/anaconda3/lib/python3.9/site-packages (from dash->jupyter-dash) (5.13.1)\n",
      "Requirement already satisfied: itsdangerous>=0.24 in /Users/necmiyesoyla/opt/anaconda3/lib/python3.9/site-packages (from flask->jupyter-dash) (2.0.1)\n",
      "Requirement already satisfied: click>=5.1 in /Users/necmiyesoyla/opt/anaconda3/lib/python3.9/site-packages (from flask->jupyter-dash) (8.0.4)\n",
      "Requirement already satisfied: Werkzeug>=0.15 in /Users/necmiyesoyla/opt/anaconda3/lib/python3.9/site-packages (from flask->jupyter-dash) (2.0.3)\n",
      "Requirement already satisfied: Jinja2>=2.10.1 in /Users/necmiyesoyla/opt/anaconda3/lib/python3.9/site-packages (from flask->jupyter-dash) (2.11.3)\n",
      "Requirement already satisfied: psutil in /Users/necmiyesoyla/opt/anaconda3/lib/python3.9/site-packages (from ipykernel->jupyter-dash) (5.9.0)\n",
      "Requirement already satisfied: tornado>=6.1 in /Users/necmiyesoyla/opt/anaconda3/lib/python3.9/site-packages (from ipykernel->jupyter-dash) (6.1)\n",
      "Requirement already satisfied: packaging in /Users/necmiyesoyla/opt/anaconda3/lib/python3.9/site-packages (from ipykernel->jupyter-dash) (21.3)\n",
      "Requirement already satisfied: pyzmq>=17 in /Users/necmiyesoyla/opt/anaconda3/lib/python3.9/site-packages (from ipykernel->jupyter-dash) (23.2.0)\n",
      "Requirement already satisfied: jupyter-client>=6.1.12 in /Users/necmiyesoyla/opt/anaconda3/lib/python3.9/site-packages (from ipykernel->jupyter-dash) (7.3.4)\n",
      "Requirement already satisfied: matplotlib-inline>=0.1 in /Users/necmiyesoyla/opt/anaconda3/lib/python3.9/site-packages (from ipykernel->jupyter-dash) (0.1.6)\n",
      "Requirement already satisfied: traitlets>=5.1.0 in /Users/necmiyesoyla/opt/anaconda3/lib/python3.9/site-packages (from ipykernel->jupyter-dash) (5.1.1)\n",
      "Requirement already satisfied: debugpy>=1.0 in /Users/necmiyesoyla/opt/anaconda3/lib/python3.9/site-packages (from ipykernel->jupyter-dash) (1.5.1)\n",
      "Requirement already satisfied: appnope in /Users/necmiyesoyla/opt/anaconda3/lib/python3.9/site-packages (from ipykernel->jupyter-dash) (0.1.2)\n",
      "Requirement already satisfied: decorator in /Users/necmiyesoyla/opt/anaconda3/lib/python3.9/site-packages (from ipython->jupyter-dash) (5.1.1)\n",
      "Requirement already satisfied: prompt-toolkit!=3.0.0,!=3.0.1,<3.1.0,>=2.0.0 in /Users/necmiyesoyla/opt/anaconda3/lib/python3.9/site-packages (from ipython->jupyter-dash) (3.0.20)\n",
      "Requirement already satisfied: setuptools>=18.5 in /Users/necmiyesoyla/opt/anaconda3/lib/python3.9/site-packages (from ipython->jupyter-dash) (67.4.0)\n",
      "Requirement already satisfied: pygments in /Users/necmiyesoyla/opt/anaconda3/lib/python3.9/site-packages (from ipython->jupyter-dash) (2.11.2)\n",
      "Requirement already satisfied: backcall in /Users/necmiyesoyla/opt/anaconda3/lib/python3.9/site-packages (from ipython->jupyter-dash) (0.2.0)\n",
      "Requirement already satisfied: pexpect>4.3 in /Users/necmiyesoyla/opt/anaconda3/lib/python3.9/site-packages (from ipython->jupyter-dash) (4.8.0)\n",
      "Requirement already satisfied: jedi>=0.16 in /Users/necmiyesoyla/opt/anaconda3/lib/python3.9/site-packages (from ipython->jupyter-dash) (0.18.1)\n",
      "Requirement already satisfied: pickleshare in /Users/necmiyesoyla/opt/anaconda3/lib/python3.9/site-packages (from ipython->jupyter-dash) (0.7.5)\n",
      "Requirement already satisfied: certifi>=2017.4.17 in /Users/necmiyesoyla/opt/anaconda3/lib/python3.9/site-packages (from requests->jupyter-dash) (2022.12.7)\n",
      "Requirement already satisfied: charset-normalizer<3,>=2 in /Users/necmiyesoyla/opt/anaconda3/lib/python3.9/site-packages (from requests->jupyter-dash) (2.0.4)\n",
      "Requirement already satisfied: idna<4,>=2.5 in /Users/necmiyesoyla/opt/anaconda3/lib/python3.9/site-packages (from requests->jupyter-dash) (3.3)\n",
      "Requirement already satisfied: urllib3<1.27,>=1.21.1 in /Users/necmiyesoyla/opt/anaconda3/lib/python3.9/site-packages (from requests->jupyter-dash) (1.26.11)\n",
      "Requirement already satisfied: six>=1.7.0 in /Users/necmiyesoyla/opt/anaconda3/lib/python3.9/site-packages (from retrying->jupyter-dash) (1.16.0)\n",
      "Requirement already satisfied: parso<0.9.0,>=0.8.0 in /Users/necmiyesoyla/opt/anaconda3/lib/python3.9/site-packages (from jedi>=0.16->ipython->jupyter-dash) (0.8.3)\n",
      "Requirement already satisfied: MarkupSafe>=0.23 in /Users/necmiyesoyla/opt/anaconda3/lib/python3.9/site-packages (from Jinja2>=2.10.1->flask->jupyter-dash) (2.0.1)\n",
      "Requirement already satisfied: entrypoints in /Users/necmiyesoyla/opt/anaconda3/lib/python3.9/site-packages (from jupyter-client>=6.1.12->ipykernel->jupyter-dash) (0.4)\n",
      "Requirement already satisfied: jupyter-core>=4.9.2 in /Users/necmiyesoyla/opt/anaconda3/lib/python3.9/site-packages (from jupyter-client>=6.1.12->ipykernel->jupyter-dash) (4.11.1)\n",
      "Requirement already satisfied: python-dateutil>=2.8.2 in /Users/necmiyesoyla/opt/anaconda3/lib/python3.9/site-packages (from jupyter-client>=6.1.12->ipykernel->jupyter-dash) (2.8.2)\n",
      "Requirement already satisfied: ptyprocess>=0.5 in /Users/necmiyesoyla/opt/anaconda3/lib/python3.9/site-packages (from pexpect>4.3->ipython->jupyter-dash) (0.7.0)\n",
      "Requirement already satisfied: tenacity>=6.2.0 in /Users/necmiyesoyla/opt/anaconda3/lib/python3.9/site-packages (from plotly>=5.0.0->dash->jupyter-dash) (8.0.1)\n",
      "Requirement already satisfied: wcwidth in /Users/necmiyesoyla/opt/anaconda3/lib/python3.9/site-packages (from prompt-toolkit!=3.0.0,!=3.0.1,<3.1.0,>=2.0.0->ipython->jupyter-dash) (0.2.5)\n",
      "Requirement already satisfied: pyparsing!=3.0.5,>=2.0.2 in /Users/necmiyesoyla/opt/anaconda3/lib/python3.9/site-packages (from packaging->ipykernel->jupyter-dash) (3.0.9)\n",
      "Installing collected packages: dash-table, dash-html-components, dash-core-components, retrying, ansi2html, dash, jupyter-dash\n",
      "Successfully installed ansi2html-1.8.0 dash-2.9.1 dash-core-components-2.0.0 dash-html-components-2.0.0 dash-table-5.0.0 jupyter-dash-0.4.2 retrying-1.3.4\n"
     ]
    }
   ],
   "source": [
    "!pip install jupyter-dash"
   ]
  },
  {
   "cell_type": "code",
   "execution_count": 4,
   "metadata": {},
   "outputs": [],
   "source": [
    "data=pd.read_csv(\"timesData.csv\")"
   ]
  },
  {
   "cell_type": "code",
   "execution_count": 5,
   "metadata": {},
   "outputs": [
    {
     "data": {
      "text/html": [
       "<div>\n",
       "<style scoped>\n",
       "    .dataframe tbody tr th:only-of-type {\n",
       "        vertical-align: middle;\n",
       "    }\n",
       "\n",
       "    .dataframe tbody tr th {\n",
       "        vertical-align: top;\n",
       "    }\n",
       "\n",
       "    .dataframe thead th {\n",
       "        text-align: right;\n",
       "    }\n",
       "</style>\n",
       "<table border=\"1\" class=\"dataframe\">\n",
       "  <thead>\n",
       "    <tr style=\"text-align: right;\">\n",
       "      <th></th>\n",
       "      <th>world_rank</th>\n",
       "      <th>university_name</th>\n",
       "      <th>country</th>\n",
       "      <th>teaching</th>\n",
       "      <th>international</th>\n",
       "      <th>research</th>\n",
       "      <th>citations</th>\n",
       "      <th>income</th>\n",
       "      <th>total_score</th>\n",
       "      <th>num_students</th>\n",
       "      <th>student_staff_ratio</th>\n",
       "      <th>international_students</th>\n",
       "      <th>female_male_ratio</th>\n",
       "      <th>year</th>\n",
       "    </tr>\n",
       "  </thead>\n",
       "  <tbody>\n",
       "    <tr>\n",
       "      <th>0</th>\n",
       "      <td>1</td>\n",
       "      <td>Harvard University</td>\n",
       "      <td>United States of America</td>\n",
       "      <td>99.7</td>\n",
       "      <td>72.4</td>\n",
       "      <td>98.7</td>\n",
       "      <td>98.8</td>\n",
       "      <td>34.5</td>\n",
       "      <td>96.1</td>\n",
       "      <td>20,152</td>\n",
       "      <td>8.9</td>\n",
       "      <td>25%</td>\n",
       "      <td>NaN</td>\n",
       "      <td>2011</td>\n",
       "    </tr>\n",
       "    <tr>\n",
       "      <th>1</th>\n",
       "      <td>2</td>\n",
       "      <td>California Institute of Technology</td>\n",
       "      <td>United States of America</td>\n",
       "      <td>97.7</td>\n",
       "      <td>54.6</td>\n",
       "      <td>98.0</td>\n",
       "      <td>99.9</td>\n",
       "      <td>83.7</td>\n",
       "      <td>96.0</td>\n",
       "      <td>2,243</td>\n",
       "      <td>6.9</td>\n",
       "      <td>27%</td>\n",
       "      <td>33 : 67</td>\n",
       "      <td>2011</td>\n",
       "    </tr>\n",
       "    <tr>\n",
       "      <th>2</th>\n",
       "      <td>3</td>\n",
       "      <td>Massachusetts Institute of Technology</td>\n",
       "      <td>United States of America</td>\n",
       "      <td>97.8</td>\n",
       "      <td>82.3</td>\n",
       "      <td>91.4</td>\n",
       "      <td>99.9</td>\n",
       "      <td>87.5</td>\n",
       "      <td>95.6</td>\n",
       "      <td>11,074</td>\n",
       "      <td>9.0</td>\n",
       "      <td>33%</td>\n",
       "      <td>37 : 63</td>\n",
       "      <td>2011</td>\n",
       "    </tr>\n",
       "    <tr>\n",
       "      <th>3</th>\n",
       "      <td>4</td>\n",
       "      <td>Stanford University</td>\n",
       "      <td>United States of America</td>\n",
       "      <td>98.3</td>\n",
       "      <td>29.5</td>\n",
       "      <td>98.1</td>\n",
       "      <td>99.2</td>\n",
       "      <td>64.3</td>\n",
       "      <td>94.3</td>\n",
       "      <td>15,596</td>\n",
       "      <td>7.8</td>\n",
       "      <td>22%</td>\n",
       "      <td>42 : 58</td>\n",
       "      <td>2011</td>\n",
       "    </tr>\n",
       "    <tr>\n",
       "      <th>4</th>\n",
       "      <td>5</td>\n",
       "      <td>Princeton University</td>\n",
       "      <td>United States of America</td>\n",
       "      <td>90.9</td>\n",
       "      <td>70.3</td>\n",
       "      <td>95.4</td>\n",
       "      <td>99.9</td>\n",
       "      <td>-</td>\n",
       "      <td>94.2</td>\n",
       "      <td>7,929</td>\n",
       "      <td>8.4</td>\n",
       "      <td>27%</td>\n",
       "      <td>45 : 55</td>\n",
       "      <td>2011</td>\n",
       "    </tr>\n",
       "  </tbody>\n",
       "</table>\n",
       "</div>"
      ],
      "text/plain": [
       "  world_rank                        university_name                   country  \\\n",
       "0          1                     Harvard University  United States of America   \n",
       "1          2     California Institute of Technology  United States of America   \n",
       "2          3  Massachusetts Institute of Technology  United States of America   \n",
       "3          4                    Stanford University  United States of America   \n",
       "4          5                   Princeton University  United States of America   \n",
       "\n",
       "   teaching international  research  citations income total_score  \\\n",
       "0      99.7          72.4      98.7       98.8   34.5        96.1   \n",
       "1      97.7          54.6      98.0       99.9   83.7        96.0   \n",
       "2      97.8          82.3      91.4       99.9   87.5        95.6   \n",
       "3      98.3          29.5      98.1       99.2   64.3        94.3   \n",
       "4      90.9          70.3      95.4       99.9      -        94.2   \n",
       "\n",
       "  num_students  student_staff_ratio international_students female_male_ratio  \\\n",
       "0       20,152                  8.9                    25%               NaN   \n",
       "1        2,243                  6.9                    27%           33 : 67   \n",
       "2       11,074                  9.0                    33%           37 : 63   \n",
       "3       15,596                  7.8                    22%           42 : 58   \n",
       "4        7,929                  8.4                    27%           45 : 55   \n",
       "\n",
       "   year  \n",
       "0  2011  \n",
       "1  2011  \n",
       "2  2011  \n",
       "3  2011  \n",
       "4  2011  "
      ]
     },
     "execution_count": 5,
     "metadata": {},
     "output_type": "execute_result"
    }
   ],
   "source": [
    "data.head()"
   ]
  },
  {
   "cell_type": "code",
   "execution_count": 6,
   "metadata": {},
   "outputs": [
    {
     "name": "stdout",
     "output_type": "stream",
     "text": [
      "<class 'pandas.core.frame.DataFrame'>\n",
      "RangeIndex: 2603 entries, 0 to 2602\n",
      "Data columns (total 14 columns):\n",
      " #   Column                  Non-Null Count  Dtype  \n",
      "---  ------                  --------------  -----  \n",
      " 0   world_rank              2603 non-null   object \n",
      " 1   university_name         2603 non-null   object \n",
      " 2   country                 2603 non-null   object \n",
      " 3   teaching                2603 non-null   float64\n",
      " 4   international           2603 non-null   object \n",
      " 5   research                2603 non-null   float64\n",
      " 6   citations               2603 non-null   float64\n",
      " 7   income                  2603 non-null   object \n",
      " 8   total_score             2603 non-null   object \n",
      " 9   num_students            2544 non-null   object \n",
      " 10  student_staff_ratio     2544 non-null   float64\n",
      " 11  international_students  2536 non-null   object \n",
      " 12  female_male_ratio       2370 non-null   object \n",
      " 13  year                    2603 non-null   int64  \n",
      "dtypes: float64(4), int64(1), object(9)\n",
      "memory usage: 284.8+ KB\n"
     ]
    }
   ],
   "source": [
    "data.info()"
   ]
  },
  {
   "cell_type": "code",
   "execution_count": null,
   "metadata": {},
   "outputs": [],
   "source": []
  }
 ],
 "metadata": {
  "kernelspec": {
   "display_name": "Python 3.9.6 64-bit",
   "language": "python",
   "name": "python3"
  },
  "language_info": {
   "codemirror_mode": {
    "name": "ipython",
    "version": 3
   },
   "file_extension": ".py",
   "mimetype": "text/x-python",
   "name": "python",
   "nbconvert_exporter": "python",
   "pygments_lexer": "ipython3",
   "version": "3.9.6"
  },
  "orig_nbformat": 4,
  "vscode": {
   "interpreter": {
    "hash": "31f2aee4e71d21fbe5cf8b01ff0e069b9275f58929596ceb00d14d90e3e16cd6"
   }
  }
 },
 "nbformat": 4,
 "nbformat_minor": 2
}
