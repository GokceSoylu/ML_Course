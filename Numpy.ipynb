{
 "cells": [
  {
   "cell_type": "markdown",
   "metadata": {},
   "source": [
    "# Numpy'a dair"
   ]
  },
  {
   "cell_type": "code",
   "execution_count": 1,
   "metadata": {},
   "outputs": [],
   "source": [
    "import numpy as np"
   ]
  },
  {
   "cell_type": "markdown",
   "metadata": {},
   "source": [
    "- Shape\n",
    "\n",
    "- size\n",
    "\n",
    "- ndim\n",
    "\n",
    "- reshape\n",
    "\n",
    "- resize\n",
    "\n",
    "- dtype"
   ]
  },
  {
   "cell_type": "code",
   "execution_count": 68,
   "metadata": {},
   "outputs": [
    {
     "name": "stdout",
     "output_type": "stream",
     "text": [
      "shape (2, 3)\n",
      "size =  6\n",
      "ndin 2\n",
      "dtype int64\n",
      "resahpe (3, 2)\n",
      "resize (3, 2)\n",
      "size =  6\n",
      "ndin 2\n"
     ]
    },
    {
     "data": {
      "text/plain": [
       "array([[1, 2],\n",
       "       [3, 4],\n",
       "       [5, 6]])"
      ]
     },
     "execution_count": 68,
     "metadata": {},
     "output_type": "execute_result"
    }
   ],
   "source": [
    "array=np.array([[1,2,3],[4,5,6]])\n",
    "print(\"shape\",array.shape)\n",
    "print(\"size = \",array.size)\n",
    "print(\"ndin\",array.ndim)\n",
    "print(\"dtype\",array.dtype)\n",
    "array_=array.reshape(3,2)\n",
    "array.resize(3,2)#resize ve reshape farkı= resize ile yapılan değişiklilk kalıcıdır. reshape ilee yapılıan değişiklik kalıcı değildir değişkene atanmalısdır\n",
    "print(\"resahpe\",array.shape)\n",
    "print(\"resize\",array.shape)\n",
    "print(\"size = \",array.size)\n",
    "print(\"ndin\",array.ndim)\n",
    "array"
   ]
  },
  {
   "cell_type": "markdown",
   "metadata": {},
   "source": [
    "- zeros\n",
    "\n",
    "- ones\n",
    "\n",
    "- empty"
   ]
  },
  {
   "cell_type": "code",
   "execution_count": 16,
   "metadata": {},
   "outputs": [
    {
     "name": "stdout",
     "output_type": "stream",
     "text": [
      "[[0 0]\n",
      " [0 0]]\n",
      "\n",
      "[[1. 1.]\n",
      " [1. 1.]\n",
      " [1. 1.]]\n",
      "\n",
      "[[1. 1. 1.]\n",
      " [1. 1. 1.]]\n"
     ]
    }
   ],
   "source": [
    "a=np.zeros((2,2),dtype=\"int64\")\n",
    "b=np.ones((3,2))\n",
    "c=np.empty((2,3))\n",
    "\n",
    "print(a)\n",
    "print()\n",
    "print(b)\n",
    "print()\n",
    "print(c)"
   ]
  },
  {
   "cell_type": "markdown",
   "metadata": {},
   "source": [
    "- arange\n",
    "- linespace"
   ]
  },
  {
   "cell_type": "code",
   "execution_count": 25,
   "metadata": {},
   "outputs": [
    {
     "name": "stdout",
     "output_type": "stream",
     "text": [
      "[1 3 5 7 9]\n",
      "\n",
      "[ 1  2  4  6  8 10]\n"
     ]
    }
   ],
   "source": [
    "#normal py nin kemdisindeki range gibi. ama bu array yapıyor range array yapmaz\n",
    "#np.arange(x,y,z) x'ten y'ye z'şer adım :)\n",
    "#linspace ise belli araşıkta kaç tane seçeceğini soylersin o secer bir nevi random \n",
    "#np.linespace(x,y,z) x-y arasında z adet number\n",
    "a1=np.arange(1,10,2)\n",
    "a2=np.linspace(1,10,6,dtype=\"int64\")\n",
    "print(a1)\n",
    "print()\n",
    "print(a2)\n"
   ]
  },
  {
   "cell_type": "markdown",
   "metadata": {},
   "source": [
    "- liste\n",
    "\n",
    "- tolist"
   ]
  },
  {
   "cell_type": "code",
   "execution_count": 38,
   "metadata": {},
   "outputs": [
    {
     "name": "stdout",
     "output_type": "stream",
     "text": [
      "[1, 2, 3, 4, 5, 6]\n",
      "\n",
      "[1 2 3 4 5 6]\n",
      "\n",
      "[1, 2, 3, 4, 5, 6]\n"
     ]
    }
   ],
   "source": [
    "#hocam liste ve array farklı neden çünkü biri liste diğeri array :))\n",
    "#array metodlarını listede kullanamazsın. liste metodlarınıda array dde kullanamaazsınn tabiki :))\n",
    "list=[1,2,3,4,5,6]\n",
    "array=np.array([1,2,3,4,5,6])#hocam dikkat ettiniz mi? array oluşturmka iiçin n.array metodununiçine liste yazıyoruz\n",
    "array_=array.tolist()\n",
    "\n",
    "print(list)\n",
    "print()\n",
    "print(array)\n",
    "print()\n",
    "print(array_)"
   ]
  },
  {
   "cell_type": "markdown",
   "metadata": {},
   "source": [
    "pointer gibşi hepsi aynı yeri tutuyor :))\n"
   ]
  },
  {
   "cell_type": "code",
   "execution_count": 42,
   "metadata": {},
   "outputs": [
    {
     "data": {
      "text/plain": [
       "3"
      ]
     },
     "execution_count": 42,
     "metadata": {},
     "output_type": "execute_result"
    }
   ],
   "source": [
    "d=a\n",
    "b=c\n",
    "a=c\n",
    "\n",
    "c=[1,2,3,4]\n",
    "\n",
    "a[2]\n"
   ]
  },
  {
   "cell_type": "markdown",
   "metadata": {},
   "source": [
    "- -1 'in gücü [::-1]\n",
    "- copy\n",
    "- ravel"
   ]
  },
  {
   "cell_type": "code",
   "execution_count": 67,
   "metadata": {},
   "outputs": [
    {
     "name": "stdout",
     "output_type": "stream",
     "text": [
      "[4 3 2 1]\n",
      "[[7 8 9]\n",
      " [4 5 6]\n",
      " [1 2 3]]\n",
      "[[7 8 9]]\n",
      "[[1 2 3]\n",
      " [4 5 6]]\n"
     ]
    },
    {
     "data": {
      "text/plain": [
       "(9,)"
      ]
     },
     "execution_count": 67,
     "metadata": {},
     "output_type": "execute_result"
    }
   ],
   "source": [
    "# [::-1]  ters  çeviirir\n",
    "a=np.array([[1,2,3],[4,5,6],[7,8,9]])\n",
    "a2=np.array([1,2,3,4])\n",
    "a2_ters=a2[::-1]\n",
    "a_ters=a[::-1]\n",
    "print(a2_ters)\n",
    "print(a_ters)\n",
    "\n",
    "\n",
    "print(a[-1:])\n",
    "print(a[:-1])\n",
    "\n",
    "#-1 sonuncu sütün/satırı seçer :))\n",
    "\n",
    "\n",
    "\n",
    "a_1=a.ravel()\n",
    "a_1.shape\n",
    "\n",
    "#rave tek boyutlu hale getirir"
   ]
  },
  {
   "cell_type": "markdown",
   "metadata": {},
   "source": [
    "- tranpoze T"
   ]
  },
  {
   "cell_type": "code",
   "execution_count": 70,
   "metadata": {},
   "outputs": [
    {
     "name": "stdout",
     "output_type": "stream",
     "text": [
      "[[1 2 3]\n",
      " [4 5 6]\n",
      " [7 8 9]]\n",
      "\n"
     ]
    },
    {
     "data": {
      "text/plain": [
       "array([[1, 4, 7],\n",
       "       [2, 5, 8],\n",
       "       [3, 6, 9]])"
      ]
     },
     "execution_count": 70,
     "metadata": {},
     "output_type": "execute_result"
    }
   ],
   "source": [
    "print(a)\n",
    "print()\n",
    "a.T"
   ]
  },
  {
   "cell_type": "code",
   "execution_count": null,
   "metadata": {},
   "outputs": [],
   "source": []
  }
 ],
 "metadata": {
  "kernelspec": {
   "display_name": "Python 3.9.6 64-bit",
   "language": "python",
   "name": "python3"
  },
  "language_info": {
   "codemirror_mode": {
    "name": "ipython",
    "version": 3
   },
   "file_extension": ".py",
   "mimetype": "text/x-python",
   "name": "python",
   "nbconvert_exporter": "python",
   "pygments_lexer": "ipython3",
   "version": "3.9.6"
  },
  "orig_nbformat": 4,
  "vscode": {
   "interpreter": {
    "hash": "31f2aee4e71d21fbe5cf8b01ff0e069b9275f58929596ceb00d14d90e3e16cd6"
   }
  }
 },
 "nbformat": 4,
 "nbformat_minor": 2
}
